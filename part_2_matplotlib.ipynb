{
  "nbformat": 4,
  "nbformat_minor": 0,
  "metadata": {
    "kernelspec": {
      "display_name": "Python 3",
      "language": "python",
      "name": "python3"
    },
    "language_info": {
      "codemirror_mode": {
        "name": "ipython",
        "version": 3
      },
      "file_extension": ".py",
      "mimetype": "text/x-python",
      "name": "python",
      "nbconvert_exporter": "python",
      "pygments_lexer": "ipython3",
      "version": "3.7.6"
    },
    "colab": {
      "name": "part_2_matplotlib.ipynb",
      "provenance": [],
      "include_colab_link": true
    }
  },
  "cells": [
    {
      "cell_type": "markdown",
      "metadata": {
        "id": "view-in-github",
        "colab_type": "text"
      },
      "source": [
        "<a href=\"https://colab.research.google.com/github/RaquelGrosman/BigD/blob/master/part_2_matplotlib.ipynb\" target=\"_parent\"><img src=\"https://colab.research.google.com/assets/colab-badge.svg\" alt=\"Open In Colab\"/></a>"
      ]
    },
    {
      "cell_type": "markdown",
      "metadata": {
        "id": "dssJWL67oLWP",
        "colab_type": "text"
      },
      "source": [
        "# matplotlib - 2D plotting in Python"
      ]
    },
    {
      "cell_type": "markdown",
      "metadata": {
        "id": "SPslzqySoLXf",
        "colab_type": "text"
      },
      "source": [
        "This lecture is a reduced version compiled from the following materials:\n",
        "\n",
        "    J.R. Johansson (jrjohansson at gmail.com)\n",
        "    The latest version of this IPython notebook lecture is available at http://github.com/jrjohansson/scientific-python-lectures.\n",
        "    The other notebooks in this lecture series are indexed at http://jrjohansson.github.io.\n",
        "    \n",
        "    https://diveintopython3.problemsolving.io/\n",
        "    \n",
        "    https://www.dataquest.io/blog/jupyter-notebook-tutorial/"
      ]
    },
    {
      "cell_type": "code",
      "metadata": {
        "id": "dmQ56CNMoLYj",
        "colab_type": "code",
        "colab": {}
      },
      "source": [
        "# This line configures matplotlib to show figures embedded in the notebook, \n",
        "# instead of opening a new window for each figure. More about that later. \n",
        "# If you are using an old version of IPython, try using '%pylab inline' instead.\n",
        "%matplotlib inline"
      ],
      "execution_count": 0,
      "outputs": []
    },
    {
      "cell_type": "markdown",
      "metadata": {
        "id": "nPkjc-mxoLaP",
        "colab_type": "text"
      },
      "source": [
        "## Introduction"
      ]
    },
    {
      "cell_type": "markdown",
      "metadata": {
        "id": "plveLg6PoLaV",
        "colab_type": "text"
      },
      "source": [
        "Matplotlib is an excellent 2D and 3D graphics library for generating scientific figures. Some of the many advantages of this library include:\n",
        "\n",
        "* Easy to get started\n",
        "* Support for $\\LaTeX$ formatted labels and texts\n",
        "* Great control of every element in a figure, including figure size and DPI. \n",
        "* High-quality output in many formats, including PNG, PDF, SVG, EPS, and PGF.\n",
        "* GUI for interactively exploring figures *and* support for headless generation of figure files (useful for batch jobs).\n",
        "\n",
        "One of the key features of matplotlib that I would like to emphasize, and that I think makes matplotlib highly suitable for generating figures for scientific publications is that all aspects of the figure can be controlled *programmatically*. This is important for reproducibility and convenient when one needs to regenerate the figure with updated data or change its appearance. \n",
        "\n",
        "More information at the Matplotlib web page: http://matplotlib.org/"
      ]
    },
    {
      "cell_type": "markdown",
      "metadata": {
        "id": "P2LW9DQeoLbl",
        "colab_type": "text"
      },
      "source": [
        "To get started using Matplotlib in a Python program, either include the symbols from the `pylab` module (the easy way):"
      ]
    },
    {
      "cell_type": "code",
      "metadata": {
        "id": "5XKMTbUaoLby",
        "colab_type": "code",
        "colab": {}
      },
      "source": [
        "from pylab import *"
      ],
      "execution_count": 0,
      "outputs": []
    },
    {
      "cell_type": "markdown",
      "metadata": {
        "id": "wgjJ0t4YoLdu",
        "colab_type": "text"
      },
      "source": [
        "or import the `matplotlib.pyplot` module under the name `plt` (the tidy way):"
      ]
    },
    {
      "cell_type": "code",
      "metadata": {
        "id": "1g_jjpkIoLem",
        "colab_type": "code",
        "colab": {}
      },
      "source": [
        "import matplotlib\n",
        "import matplotlib.pyplot as plt"
      ],
      "execution_count": 0,
      "outputs": []
    },
    {
      "cell_type": "code",
      "metadata": {
        "id": "KPpP0m_coLfw",
        "colab_type": "code",
        "colab": {}
      },
      "source": [
        "import numpy as np"
      ],
      "execution_count": 0,
      "outputs": []
    },
    {
      "cell_type": "markdown",
      "metadata": {
        "id": "ERbEiX6OoLgc",
        "colab_type": "text"
      },
      "source": [
        "## MATLAB-like API"
      ]
    },
    {
      "cell_type": "markdown",
      "metadata": {
        "id": "HTBHuB08oLgz",
        "colab_type": "text"
      },
      "source": [
        "The easiest way to get started with plotting using matplotlib is often to use the MATLAB-like API provided by matplotlib. \n",
        "\n",
        "It is designed to be compatible with MATLAB's plotting functions, so it is easy to get started with if you are familiar with MATLAB.\n",
        "\n",
        "To use this API from matplotlib, we need to include the symbols in the `pylab` module: "
      ]
    },
    {
      "cell_type": "code",
      "metadata": {
        "id": "rcc4a-8roLg3",
        "colab_type": "code",
        "colab": {}
      },
      "source": [
        "from pylab import *"
      ],
      "execution_count": 0,
      "outputs": []
    },
    {
      "cell_type": "markdown",
      "metadata": {
        "id": "YQEp8-PDoLht",
        "colab_type": "text"
      },
      "source": [
        "### Example"
      ]
    },
    {
      "cell_type": "markdown",
      "metadata": {
        "id": "TnzlzdJRoLiM",
        "colab_type": "text"
      },
      "source": [
        "A simple figure with MATLAB-like plotting API:"
      ]
    },
    {
      "cell_type": "code",
      "metadata": {
        "id": "kJqRqu9ooLib",
        "colab_type": "code",
        "colab": {}
      },
      "source": [
        "x = np.linspace(0, 5, 10)\n",
        "y = 1/x"
      ],
      "execution_count": 0,
      "outputs": []
    },
    {
      "cell_type": "code",
      "metadata": {
        "id": "NFOhCPPboLi-",
        "colab_type": "code",
        "colab": {}
      },
      "source": [
        "figure()\n",
        "plot(x, y, 'r')\n",
        "xlabel('x')\n",
        "ylabel('y')\n",
        "title('title')\n",
        "show()"
      ],
      "execution_count": 0,
      "outputs": []
    },
    {
      "cell_type": "markdown",
      "metadata": {
        "id": "RLc7fLVuoLki",
        "colab_type": "text"
      },
      "source": [
        "Most of the plotting related functions in MATLAB are covered by the `pylab` module. For example, subplot and color/symbol selection:"
      ]
    },
    {
      "cell_type": "code",
      "metadata": {
        "id": "v-6AuIJioLkv",
        "colab_type": "code",
        "colab": {}
      },
      "source": [
        "subplot(1,2,1)\n",
        "plot(x, y, 'r--')\n",
        "subplot(1,2,2)\n",
        "plot(y, x, 'g*-');"
      ],
      "execution_count": 0,
      "outputs": []
    },
    {
      "cell_type": "markdown",
      "metadata": {
        "id": "mPHK-0fyoLlX",
        "colab_type": "text"
      },
      "source": [
        "The good thing about the pylab MATLAB-style API is that it is easy to get started with if you are familiar with MATLAB, and it has a minumum of coding overhead for simple plots. \n",
        "\n",
        "However, I'd encourrage not using the MATLAB compatible API for anything but the simplest figures.\n",
        "\n",
        "Instead, I recommend learning and using matplotlib's object-oriented plotting API. It is remarkably powerful. For advanced figures with subplots, insets and other components it is very nice to work with. "
      ]
    },
    {
      "cell_type": "markdown",
      "metadata": {
        "id": "_iizoZy9oLl4",
        "colab_type": "text"
      },
      "source": [
        "## The matplotlib object-oriented API"
      ]
    },
    {
      "cell_type": "markdown",
      "metadata": {
        "id": "HuBc-WnVoLmC",
        "colab_type": "text"
      },
      "source": [
        "The main idea with object-oriented programming is to have objects that one can apply functions and actions on, and no object or program states should be global (such as the MATLAB-like API). The real advantage of this approach becomes apparent when more than one figure is created, or when a figure contains more than one subplot. \n",
        "\n",
        "To use the object-oriented API we start out very much like in the previous example, but instead of creating a new global figure instance we store a reference to the newly created figure instance in the `fig` variable, and from it we create a new axis instance `axes` using the `add_axes` method in the `Figure` class instance `fig`:"
      ]
    },
    {
      "cell_type": "code",
      "metadata": {
        "id": "WxaUsnW-oLmF",
        "colab_type": "code",
        "colab": {}
      },
      "source": [
        "fig = plt.figure()\n",
        "\n",
        "axes = fig.add_axes([0.1, 0.1, 0.8, 0.8]) # left, bottom, width, height (range 0 to 1)\n",
        "\n",
        "axes.plot(x, y, 'r')\n",
        "\n",
        "axes.set_xlabel('x')\n",
        "axes.set_ylabel('y')\n",
        "axes.set_title('title');"
      ],
      "execution_count": 0,
      "outputs": []
    },
    {
      "cell_type": "markdown",
      "metadata": {
        "id": "BttzgHS8oLmg",
        "colab_type": "text"
      },
      "source": [
        "If we don't care about being explicit about where our plot axes are placed in the figure canvas, then we can use one of the many axis layout managers in matplotlib, like `subplots`, which can be used like this:"
      ]
    },
    {
      "cell_type": "code",
      "metadata": {
        "id": "CzC4TFrBoLmm",
        "colab_type": "code",
        "colab": {}
      },
      "source": [
        "fig, axes = plt.subplots()\n",
        "\n",
        "axes.plot(x, y, 'r')\n",
        "axes.set_xlabel('x')\n",
        "axes.set_ylabel('y')\n",
        "axes.set_title('title');"
      ],
      "execution_count": 0,
      "outputs": []
    },
    {
      "cell_type": "code",
      "metadata": {
        "id": "WCVMDcfqoLoF",
        "colab_type": "code",
        "colab": {}
      },
      "source": [
        "fig, axes = plt.subplots(nrows=1, ncols=2)\n",
        "\n",
        "for ax in axes:\n",
        "    ax.plot(x, y, 'r')\n",
        "    ax.set_xlabel('x')\n",
        "    ax.set_ylabel('y')\n",
        "    ax.set_title('title')\n",
        "    \n",
        "fig.tight_layout()"
      ],
      "execution_count": 0,
      "outputs": []
    },
    {
      "cell_type": "markdown",
      "metadata": {
        "id": "hYz4QoVGoLoi",
        "colab_type": "text"
      },
      "source": [
        "### Saving figures"
      ]
    },
    {
      "cell_type": "markdown",
      "metadata": {
        "id": "SXxZq9mToLoo",
        "colab_type": "text"
      },
      "source": [
        "To save a figure to a file we can use the `savefig` method in the `Figure` class:"
      ]
    },
    {
      "cell_type": "code",
      "metadata": {
        "id": "FT16PQtkoLor",
        "colab_type": "code",
        "colab": {}
      },
      "source": [
        "fig.savefig(\"filename.png\")"
      ],
      "execution_count": 0,
      "outputs": []
    },
    {
      "cell_type": "markdown",
      "metadata": {
        "id": "9gZPCnodoLpI",
        "colab_type": "text"
      },
      "source": [
        "Here we can also optionally specify the DPI and choose between different output formats:"
      ]
    },
    {
      "cell_type": "code",
      "metadata": {
        "id": "wbW7mYJYoLpM",
        "colab_type": "code",
        "colab": {}
      },
      "source": [
        "fig.savefig(\"filename.png\", dpi=200)"
      ],
      "execution_count": 0,
      "outputs": []
    },
    {
      "cell_type": "markdown",
      "metadata": {
        "id": "ufXQvz2loLpg",
        "colab_type": "text"
      },
      "source": [
        "### Legends, labels and titles"
      ]
    },
    {
      "cell_type": "markdown",
      "metadata": {
        "id": "hYjDI7fPoLqZ",
        "colab_type": "text"
      },
      "source": [
        "Now that we have covered the basics of how to create a figure canvas and add axes instances to the canvas, let's look at how decorate a figure with titles, axis labels, and legends."
      ]
    },
    {
      "cell_type": "markdown",
      "metadata": {
        "id": "6aztH6EBoLqe",
        "colab_type": "text"
      },
      "source": [
        "**Figure titles**\n",
        "\n",
        "A title can be added to each axis instance in a figure. To set the title, use the `set_title` method in the axes instance:"
      ]
    },
    {
      "cell_type": "code",
      "metadata": {
        "id": "kCS5DJHMoLql",
        "colab_type": "code",
        "colab": {}
      },
      "source": [
        "ax.set_title(\"title\");"
      ],
      "execution_count": 0,
      "outputs": []
    },
    {
      "cell_type": "markdown",
      "metadata": {
        "id": "x_tLyvUNoLq0",
        "colab_type": "text"
      },
      "source": [
        "**Axis labels**\n",
        "\n",
        "Similarly, with the methods `set_xlabel` and `set_ylabel`, we can set the labels of the X and Y axes:"
      ]
    },
    {
      "cell_type": "code",
      "metadata": {
        "id": "AEi8huLeoLq5",
        "colab_type": "code",
        "colab": {}
      },
      "source": [
        "ax.set_xlabel(\"x\")\n",
        "ax.set_ylabel(\"y\");"
      ],
      "execution_count": 0,
      "outputs": []
    },
    {
      "cell_type": "markdown",
      "metadata": {
        "id": "2KJgmi74oLrV",
        "colab_type": "text"
      },
      "source": [
        "**Legends**\n",
        "\n",
        "Legends for curves in a figure can be added in two ways. One method is to use the `legend` method of the axis object and pass a list/tuple of legend texts for the previously defined curves:"
      ]
    },
    {
      "cell_type": "code",
      "metadata": {
        "id": "XQoj5LP-oLre",
        "colab_type": "code",
        "colab": {}
      },
      "source": [
        "ax.legend([\"curve1\", \"curve2\", \"curve3\"]);"
      ],
      "execution_count": 0,
      "outputs": []
    },
    {
      "cell_type": "markdown",
      "metadata": {
        "id": "yIMsL7NCoLrs",
        "colab_type": "text"
      },
      "source": [
        "The method described above follows the MATLAB API. It is somewhat prone to errors and unflexible if curves are added to or removed from the figure (resulting in a wrongly labelled curve).\n",
        "\n",
        "A better method is to use the `label=\"label text\"` keyword argument when plots or other objects are added to the figure, and then using the `legend` method without arguments to add the legend to the figure: "
      ]
    },
    {
      "cell_type": "code",
      "metadata": {
        "id": "JoE5WjoyoLrx",
        "colab_type": "code",
        "colab": {}
      },
      "source": [
        "ax.plot(x, x**2, label=\"curve1\")\n",
        "ax.plot(x, x**3, label=\"curve2\")\n",
        "ax.legend();"
      ],
      "execution_count": 0,
      "outputs": []
    },
    {
      "cell_type": "markdown",
      "metadata": {
        "id": "ne1sju4GoLr9",
        "colab_type": "text"
      },
      "source": [
        "The advantage with this method is that if curves are added or removed from the figure, the legend is automatically updated accordingly.\n",
        "\n",
        "The `legend` function takes an optional keyword argument `loc` that can be used to specify where in the figure the legend is to be drawn. The allowed values of `loc` are numerical codes for the various places the legend can be drawn. See http://matplotlib.org/users/legend_guide.html#legend-location for details. Some of the most common `loc` values are:"
      ]
    },
    {
      "cell_type": "code",
      "metadata": {
        "id": "zpNfdNqFoLsD",
        "colab_type": "code",
        "colab": {}
      },
      "source": [
        "ax.legend(loc=0) # let matplotlib decide the optimal location\n",
        "ax.legend(loc=1) # upper right corner\n",
        "ax.legend(loc=2) # upper left corner\n",
        "ax.legend(loc=3) # lower left corner\n",
        "ax.legend(loc=4) # lower right corner\n",
        "# .. many more options are available"
      ],
      "execution_count": 0,
      "outputs": []
    },
    {
      "cell_type": "markdown",
      "metadata": {
        "id": "hF4oH8TkoLsL",
        "colab_type": "text"
      },
      "source": [
        "The following figure shows how to use the figure title, axis labels and legends described above:"
      ]
    },
    {
      "cell_type": "code",
      "metadata": {
        "id": "PCw-wAo-oLsN",
        "colab_type": "code",
        "colab": {}
      },
      "source": [
        "fig, ax = plt.subplots()\n",
        "\n",
        "ax.plot(x, x**2, label=\"y = x**2\")\n",
        "ax.plot(x, x**3, label=\"y = x**3\")\n",
        "ax.legend(loc=2); # upper left corner\n",
        "ax.set_xlabel('x')\n",
        "ax.set_ylabel('y')\n",
        "ax.set_title('title');"
      ],
      "execution_count": 0,
      "outputs": []
    },
    {
      "cell_type": "markdown",
      "metadata": {
        "id": "-Jp0yH43oLsR",
        "colab_type": "text"
      },
      "source": [
        "### Setting colors, linewidths, linetypes"
      ]
    },
    {
      "cell_type": "markdown",
      "metadata": {
        "id": "l14OQIrqoLsT",
        "colab_type": "text"
      },
      "source": [
        "#### Colors"
      ]
    },
    {
      "cell_type": "markdown",
      "metadata": {
        "id": "Cdi-HPM6oLsU",
        "colab_type": "text"
      },
      "source": [
        "With matplotlib, we can define the colors of lines and other graphical elements in a number of ways. First of all, we can use the MATLAB-like syntax where `'b'` means blue, `'g'` means green, etc. The MATLAB API for selecting line styles are also supported: where, for example, 'b.-' means a blue line with dots:"
      ]
    },
    {
      "cell_type": "code",
      "metadata": {
        "id": "pE3rLodvoLsV",
        "colab_type": "code",
        "colab": {}
      },
      "source": [
        "# MATLAB style line color and style \n",
        "ax.plot(x, x**2, 'b.-') # blue line with dots\n",
        "ax.plot(x, x**3, 'g--') # green dashed line"
      ],
      "execution_count": 0,
      "outputs": []
    },
    {
      "cell_type": "markdown",
      "metadata": {
        "id": "pQant9NaoLsa",
        "colab_type": "text"
      },
      "source": [
        "We can also define colors by their names or RGB hex codes and optionally provide an alpha value using the `color` and `alpha` keyword arguments:"
      ]
    },
    {
      "cell_type": "code",
      "metadata": {
        "id": "kx48sTHSoLsb",
        "colab_type": "code",
        "colab": {}
      },
      "source": [
        "fig, ax = plt.subplots()\n",
        "\n",
        "ax.plot(x, x+1, color=\"red\", alpha=0.5) # half-transparant red\n",
        "ax.plot(x, x+2, color=\"#1155dd\")        # RGB hex code for a bluish color\n",
        "ax.plot(x, x+3, color=\"#15cc55\")        # RGB hex code for a greenish color"
      ],
      "execution_count": 0,
      "outputs": []
    },
    {
      "cell_type": "markdown",
      "metadata": {
        "id": "YYWKql87oLsg",
        "colab_type": "text"
      },
      "source": [
        "#### Line and marker styles"
      ]
    },
    {
      "cell_type": "markdown",
      "metadata": {
        "id": "wBMojYbnoLsi",
        "colab_type": "text"
      },
      "source": [
        "To change the line width, we can use the `linewidth` or `lw` keyword argument. The line style can be selected using the `linestyle` or `ls` keyword arguments:"
      ]
    },
    {
      "cell_type": "code",
      "metadata": {
        "id": "mTq3NTtaoLsj",
        "colab_type": "code",
        "colab": {}
      },
      "source": [
        "fig, ax = plt.subplots(figsize=(12,6))\n",
        "\n",
        "ax.plot(x, x+1, color=\"blue\", linewidth=0.25)\n",
        "ax.plot(x, x+2, color=\"blue\", linewidth=0.50)\n",
        "ax.plot(x, x+3, color=\"blue\", linewidth=1.00)\n",
        "ax.plot(x, x+4, color=\"blue\", linewidth=2.00)\n",
        "\n",
        "# possible linestype options ‘-‘, ‘--’, ‘-.’, ‘:’, ‘steps’\n",
        "ax.plot(x, x+5, color=\"red\", lw=2, linestyle='-')\n",
        "ax.plot(x, x+6, color=\"red\", lw=2, ls='-.')\n",
        "ax.plot(x, x+7, color=\"red\", lw=2, ls=':')\n",
        "\n",
        "# custom dash\n",
        "line, = ax.plot(x, x+8, color=\"black\", lw=1.50)\n",
        "line.set_dashes([5, 10, 15, 10]) # format: line length, space length, ...\n",
        "\n",
        "# possible marker symbols: marker = '+', 'o', '*', 's', ',', '.', '1', '2', '3', '4', ...\n",
        "ax.plot(x, x+ 9, color=\"green\", lw=2, ls='--', marker='+')\n",
        "ax.plot(x, x+10, color=\"green\", lw=2, ls='--', marker='o')\n",
        "ax.plot(x, x+11, color=\"green\", lw=2, ls='--', marker='s')\n",
        "ax.plot(x, x+12, color=\"green\", lw=2, ls='--', marker='1')\n",
        "\n",
        "# marker size and color\n",
        "ax.plot(x, x+13, color=\"purple\", lw=1, ls='-', marker='o', markersize=2)\n",
        "ax.plot(x, x+14, color=\"purple\", lw=1, ls='-', marker='o', markersize=4)\n",
        "ax.plot(x, x+15, color=\"purple\", lw=1, ls='-', marker='o', markersize=8, markerfacecolor=\"red\")\n",
        "ax.plot(x, x+16, color=\"purple\", lw=1, ls='-', marker='s', markersize=8, \n",
        "        markerfacecolor=\"yellow\", markeredgewidth=2, markeredgecolor=\"blue\");"
      ],
      "execution_count": 0,
      "outputs": []
    },
    {
      "cell_type": "markdown",
      "metadata": {
        "id": "8QDRrFE8oLs7",
        "colab_type": "text"
      },
      "source": [
        "### Control over axis appearance"
      ]
    },
    {
      "cell_type": "markdown",
      "metadata": {
        "id": "KWh9-I3noLs-",
        "colab_type": "text"
      },
      "source": [
        "The appearance of the axes is an important aspect of a figure that we often need to modify to make a publication quality graphics. We need to be able to control where the ticks and labels are placed, modify the font size and possibly the labels used on the axes. In this section we will look at controling those properties in a matplotlib figure."
      ]
    },
    {
      "cell_type": "markdown",
      "metadata": {
        "id": "VmNfhpO3oLtT",
        "colab_type": "text"
      },
      "source": [
        "#### Plot range"
      ]
    },
    {
      "cell_type": "markdown",
      "metadata": {
        "id": "RgdFPepQoLtZ",
        "colab_type": "text"
      },
      "source": [
        "The first thing we might want to configure is the ranges of the axes. We can do this using the `set_ylim` and `set_xlim` methods in the axis object, or `axis('tight')` for automatrically getting \"tightly fitted\" axes ranges:"
      ]
    },
    {
      "cell_type": "code",
      "metadata": {
        "id": "3BP5hDcvoLtc",
        "colab_type": "code",
        "colab": {}
      },
      "source": [
        "fig, axes = plt.subplots(1, 3, figsize=(12, 4))\n",
        "\n",
        "axes[0].plot(x, x**2, x, x**3)\n",
        "axes[0].set_title(\"default axes ranges\")\n",
        "\n",
        "axes[1].plot(x, x**2, x, x**3)\n",
        "axes[1].axis('tight')\n",
        "axes[1].set_title(\"tight axes\")\n",
        "\n",
        "axes[2].plot(x, x**2, x, x**3)\n",
        "axes[2].set_ylim([0, 60])\n",
        "axes[2].set_xlim([2, 5])\n",
        "axes[2].set_title(\"custom axes range\");"
      ],
      "execution_count": 0,
      "outputs": []
    },
    {
      "cell_type": "markdown",
      "metadata": {
        "id": "-fTqCESKoLtp",
        "colab_type": "text"
      },
      "source": [
        "#### Logarithmic scale"
      ]
    },
    {
      "cell_type": "markdown",
      "metadata": {
        "id": "Zdbb84AEoLtr",
        "colab_type": "text"
      },
      "source": [
        "It is also possible to set a logarithmic scale for one or both axes. This functionality is in fact only one application of a more general transformation system in Matplotlib. Each of the axes' scales are set seperately using `set_xscale` and `set_yscale` methods which accept one parameter (with the value \"log\" in this case):"
      ]
    },
    {
      "cell_type": "code",
      "metadata": {
        "id": "qwVOeGjloLts",
        "colab_type": "code",
        "colab": {}
      },
      "source": [
        "fig, axes = plt.subplots(1, 2, figsize=(10,4))\n",
        "      \n",
        "axes[0].plot(x, x**2, x, np.exp(x))\n",
        "axes[0].set_title(\"Normal scale\")\n",
        "\n",
        "axes[1].plot(x, x**2, x, np.exp(x))\n",
        "axes[1].set_yscale(\"log\")\n",
        "axes[1].set_title(\"Logarithmic scale (y)\");"
      ],
      "execution_count": 0,
      "outputs": []
    },
    {
      "cell_type": "markdown",
      "metadata": {
        "id": "zspJK62joLt2",
        "colab_type": "text"
      },
      "source": [
        "#### Scientific notation"
      ]
    },
    {
      "cell_type": "markdown",
      "metadata": {
        "id": "VRULkA9voLt4",
        "colab_type": "text"
      },
      "source": [
        "With large numbers on axes, it is often better use scientific notation:"
      ]
    },
    {
      "cell_type": "code",
      "metadata": {
        "id": "_EK4gtBooLt6",
        "colab_type": "code",
        "colab": {}
      },
      "source": [
        "fig, ax = plt.subplots(1, 1)\n",
        "      \n",
        "ax.plot(x, x**2, x, np.exp(x))\n",
        "ax.set_title(\"scientific notation\")\n",
        "\n",
        "ax.set_yticks([0, 50, 100, 150])\n",
        "\n",
        "from matplotlib import ticker\n",
        "formatter = ticker.ScalarFormatter(useMathText=True)\n",
        "formatter.set_scientific(True) \n",
        "formatter.set_powerlimits((-1,1)) \n",
        "ax.yaxis.set_major_formatter(formatter) "
      ],
      "execution_count": 0,
      "outputs": []
    },
    {
      "cell_type": "markdown",
      "metadata": {
        "id": "7TCsQYb8oLuD",
        "colab_type": "text"
      },
      "source": [
        "### Axis number and axis label spacing"
      ]
    },
    {
      "cell_type": "code",
      "metadata": {
        "id": "sDklljdUoLuH",
        "colab_type": "code",
        "colab": {}
      },
      "source": [
        "# distance between x and y axis and the numbers on the axes\n",
        "matplotlib.rcParams['xtick.major.pad'] = 5\n",
        "matplotlib.rcParams['ytick.major.pad'] = 5\n",
        "\n",
        "fig, ax = plt.subplots(1, 1)\n",
        "      \n",
        "ax.plot(x, x**2, x, np.exp(x))\n",
        "ax.set_yticks([0, 50, 100, 150])\n",
        "\n",
        "ax.set_title(\"label and axis spacing\")\n",
        "\n",
        "# padding between axis label and axis numbers\n",
        "ax.xaxis.labelpad = 5\n",
        "ax.yaxis.labelpad = 5\n",
        "\n",
        "ax.set_xlabel(\"x\")\n",
        "ax.set_ylabel(\"y\");"
      ],
      "execution_count": 0,
      "outputs": []
    },
    {
      "cell_type": "code",
      "metadata": {
        "id": "7KzA0vUPoLuk",
        "colab_type": "code",
        "colab": {}
      },
      "source": [
        "# restore defaults\n",
        "matplotlib.rcParams['xtick.major.pad'] = 3\n",
        "matplotlib.rcParams['ytick.major.pad'] = 3"
      ],
      "execution_count": 0,
      "outputs": []
    },
    {
      "cell_type": "markdown",
      "metadata": {
        "id": "kAkHvXD0oLu2",
        "colab_type": "text"
      },
      "source": [
        "#### Axis position adjustments"
      ]
    },
    {
      "cell_type": "markdown",
      "metadata": {
        "id": "-mF4Xhz3oLwX",
        "colab_type": "text"
      },
      "source": [
        "Unfortunately, when saving figures the labels are sometimes clipped, and it can be necessary to adjust the positions of axes a little bit. This can be done using `subplots_adjust`:"
      ]
    },
    {
      "cell_type": "code",
      "metadata": {
        "id": "Nm8GQZAnoLwl",
        "colab_type": "code",
        "colab": {}
      },
      "source": [
        "fig, ax = plt.subplots(1, 1)\n",
        "      \n",
        "ax.plot(x, x**2, x, np.exp(x))\n",
        "ax.set_yticks([0, 50, 100, 150])\n",
        "\n",
        "ax.set_title(\"title\")\n",
        "ax.set_xlabel(\"x\")\n",
        "ax.set_ylabel(\"y\")\n",
        "\n",
        "fig.subplots_adjust(left=0.15, right=.9, bottom=0.1, top=0.9);"
      ],
      "execution_count": 0,
      "outputs": []
    },
    {
      "cell_type": "markdown",
      "metadata": {
        "id": "CZYpLE19oLw6",
        "colab_type": "text"
      },
      "source": [
        "### Axis grid"
      ]
    },
    {
      "cell_type": "markdown",
      "metadata": {
        "id": "-TcUHiY7oLxB",
        "colab_type": "text"
      },
      "source": [
        "With the `grid` method in the axis object, we can turn on and off grid lines. We can also customize the appearance of the grid lines using the same keyword arguments as the `plot` function:"
      ]
    },
    {
      "cell_type": "code",
      "metadata": {
        "id": "qIdVrslxoLyl",
        "colab_type": "code",
        "colab": {}
      },
      "source": [
        "fig, axes = plt.subplots(1, 2, figsize=(10,3))\n",
        "\n",
        "# default grid appearance\n",
        "axes[0].plot(x, x**2, x, x**3, lw=2)\n",
        "axes[0].grid(True)\n",
        "\n",
        "# custom grid appearance\n",
        "axes[1].plot(x, x**2, x, x**3, lw=2)\n",
        "axes[1].grid(color='b', alpha=0.5, linestyle='dashed', linewidth=0.5)"
      ],
      "execution_count": 0,
      "outputs": []
    },
    {
      "cell_type": "markdown",
      "metadata": {
        "id": "FrJEIPM5oLzK",
        "colab_type": "text"
      },
      "source": [
        "### Other 2D plot styles"
      ]
    },
    {
      "cell_type": "markdown",
      "metadata": {
        "id": "HzQ68kBQoLzq",
        "colab_type": "text"
      },
      "source": [
        "In addition to the regular `plot` method, there are a number of other functions for generating different kind of plots. See the matplotlib plot gallery for a complete list of available plot types: http://matplotlib.org/gallery.html. Some of the more useful ones are show below:"
      ]
    },
    {
      "cell_type": "code",
      "metadata": {
        "id": "Css81lTToLzw",
        "colab_type": "code",
        "colab": {}
      },
      "source": [
        "n = np.array([0,1,2,3,4,5])"
      ],
      "execution_count": 0,
      "outputs": []
    },
    {
      "cell_type": "code",
      "metadata": {
        "id": "t60-_kD8oLz3",
        "colab_type": "code",
        "colab": {}
      },
      "source": [
        "fig, axes = plt.subplots(1, 4, figsize=(12,3))\n",
        "\n",
        "axes[0].scatter(xx, xx + 0.25*np.random.randn(len(xx)))\n",
        "axes[0].set_title(\"scatter\")\n",
        "\n",
        "axes[1].step(n, n**2, lw=2)\n",
        "axes[1].set_title(\"step\")\n",
        "\n",
        "axes[2].bar(n, n**2, align=\"center\", width=0.5, alpha=0.5)\n",
        "axes[2].set_title(\"bar\")\n",
        "\n",
        "axes[3].fill_between(x, x**2, x**3, color=\"green\", alpha=0.5);\n",
        "axes[3].set_title(\"fill_between\");"
      ],
      "execution_count": 0,
      "outputs": []
    },
    {
      "cell_type": "code",
      "metadata": {
        "id": "WxDEF1FYoL0H",
        "colab_type": "code",
        "colab": {}
      },
      "source": [
        "# A histogram\n",
        "n = np.random.randn(100000)\n",
        "fig, axes = plt.subplots(1, 2, figsize=(12,4))\n",
        "\n",
        "axes[0].hist(n)\n",
        "axes[0].set_title(\"Default histogram\")\n",
        "axes[0].set_xlim((min(n), max(n)))\n",
        "\n",
        "axes[1].hist(n, cumulative=True, bins=50)\n",
        "axes[1].set_title(\"Cumulative detailed histogram\")\n",
        "axes[1].set_xlim((min(n), max(n)));"
      ],
      "execution_count": 0,
      "outputs": []
    },
    {
      "cell_type": "markdown",
      "metadata": {
        "id": "-gmmrtJWoL0Q",
        "colab_type": "text"
      },
      "source": [
        "## Further reading"
      ]
    },
    {
      "cell_type": "markdown",
      "metadata": {
        "id": "MKQ_0z4woL0X",
        "colab_type": "text"
      },
      "source": [
        "* http://www.matplotlib.org - The project web page for matplotlib.\n",
        "* https://github.com/matplotlib/matplotlib - The source code for matplotlib.\n",
        "* http://matplotlib.org/gallery.html - A large gallery showcaseing various types of plots matplotlib can create. Highly recommended! \n",
        "* http://www.loria.fr/~rougier/teaching/matplotlib - A good matplotlib tutorial.\n",
        "* http://scipy-lectures.github.io/matplotlib/matplotlib.html - Another good matplotlib reference.\n"
      ]
    },
    {
      "cell_type": "markdown",
      "metadata": {
        "id": "mO7ainlMoL0a",
        "colab_type": "text"
      },
      "source": [
        "## Versions"
      ]
    },
    {
      "cell_type": "code",
      "metadata": {
        "id": "5SyjN3kYoL0b",
        "colab_type": "code",
        "colab": {}
      },
      "source": [
        "%reload_ext version_information\n",
        "%version_information numpy, scipy, matplotlib"
      ],
      "execution_count": 0,
      "outputs": []
    }
  ]
}