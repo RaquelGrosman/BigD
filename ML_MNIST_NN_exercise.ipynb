{
  "nbformat": 4,
  "nbformat_minor": 0,
  "metadata": {
    "colab": {
      "name": "ML_MNIST_NN_exercise.ipynb",
      "provenance": [],
      "collapsed_sections": []
    },
    "kernelspec": {
      "display_name": "Python 3",
      "language": "python",
      "name": "python3"
    },
    "language_info": {
      "codemirror_mode": {
        "name": "ipython",
        "version": 3
      },
      "file_extension": ".py",
      "mimetype": "text/x-python",
      "name": "python",
      "nbconvert_exporter": "python",
      "pygments_lexer": "ipython3",
      "version": "3.7.3"
    }
  },
  "cells": [
    {
      "cell_type": "code",
      "metadata": {
        "colab_type": "code",
        "id": "XpGNAvNbSzkK",
        "colab": {}
      },
      "source": [
        "import keras\n",
        "from keras.datasets import mnist\n",
        "import matplotlib.pyplot as plt\n",
        "import numpy as np"
      ],
      "execution_count": 0,
      "outputs": []
    },
    {
      "cell_type": "code",
      "metadata": {
        "colab_type": "code",
        "id": "8IRtFU1ZWO0a",
        "colab": {}
      },
      "source": [
        "# load training and test images (x), and their respective classified labels (y).\n",
        "(x_train, y_train), (x_test, y_test) = mnist.load_data() #labeled data set - picture with label "
      ],
      "execution_count": 0,
      "outputs": []
    },
    {
      "cell_type": "code",
      "metadata": {
        "colab_type": "code",
        "id": "5G5KLASFWlnX",
        "outputId": "03683115-d83d-4a77-e33c-a9b36ef9efec",
        "colab": {
          "base_uri": "https://localhost:8080/",
          "height": 523
        }
      },
      "source": [
        "# Investigate the data\n",
        "\n",
        "print(\"Training data shape: \", x_train.shape) # (60000, 28, 28) -- 60000 images, each 28x28 pixels -la imagen \n",
        "print(\"Test data shape\", x_test.shape) # (10000, 28, 28) -- 10000 images, each 28x28  \n",
        "print(\"First 10 training labels as digits:\\n\", y_train[:10])  # label el numbero de la imagen \n",
        "print(\"\")\n",
        "\n",
        "# Plot the first 10 images\n",
        "#plt.imshow(x_train[0])\n",
        "\n",
        "### STUDENT CODE HERE ###\n",
        "### --> Find a way to plot a sample of 10 images of hand-written digits in the training data\n",
        "w = 10 #width\n",
        "h = 10 #height\n",
        "fig = plt.figure(figsize=(h, w)) #creando una nueva imagen con todas las imagines \n",
        "columns = 5 \n",
        "rows = 2\n",
        "j = 0 # setting variable for iteration over numbers\n",
        "\n",
        "for i in range(1, columns*rows +1): #no empieza con 0 entonces tenemos que agregar el +1 \n",
        "    img = np.random.randint(10, size=(h,w)) #new image \n",
        "    fig.add_subplot(rows, columns, i)\n",
        "    plt.imshow(x_train[j]) \n",
        "    j = j+1 #go through data \"numbers\" - with images\n",
        "\n",
        "plt.show()\n",
        "\n",
        "### END STUDENT CODE ###"
      ],
      "execution_count": 76,
      "outputs": [
        {
          "output_type": "stream",
          "text": [
            "Training data shape:  (60000, 28, 28)\n",
            "Test data shape (10000, 28, 28)\n",
            "First 10 training labels as digits:\n",
            " [5 0 4 1 9 2 1 3 1 4]\n",
            "\n"
          ],
          "name": "stdout"
        },
        {
          "output_type": "display_data",
          "data": {
            "image/png": "[encoded data removed]",
            "text/plain": [
              "<Figure size 720x720 with 10 Axes>"
            ]
          },
          "metadata": {
            "tags": []
          }
        }
      ]
    },
    {
      "cell_type": "code",
      "metadata": {
        "colab_type": "code",
        "id": "nk6I1PweS7Br",
        "outputId": "3b25a209-f92a-486c-d080-801c9bfa225a",
        "colab": {
          "base_uri": "https://localhost:8080/",
          "height": 212
        }
      },
      "source": [
        "# Pre-processing of data\n",
        "\n",
        "# Flatten the images\n",
        "image_vector_size = 28*28\n",
        "x_train = x_train.reshape(x_train.shape[0], image_vector_size)\n",
        "x_test = x_test.reshape(x_test.shape[0], image_vector_size)\n",
        "print(\"reshaped training data format: \", x_train.shape) # -- 60000 images, now flat arrays of 28*28 long\n",
        "\n",
        "# one-hot encode the labels\n",
        "num_classes = 10\n",
        "y_train = keras.utils.to_categorical(y_train, num_classes)\n",
        "y_test = keras.utils.to_categorical(y_test, num_classes)\n",
        "print(\"First 10 training lables as one-hot encoded vectors:\\n\", y_train[:10])"
      ],
      "execution_count": 77,
      "outputs": [
        {
          "output_type": "stream",
          "text": [
            "reshaped training data format:  (60000, 784)\n",
            "First 10 training lables as one-hot encoded vectors:\n",
            " [[0. 0. 0. 0. 0. 1. 0. 0. 0. 0.]\n",
            " [1. 0. 0. 0. 0. 0. 0. 0. 0. 0.]\n",
            " [0. 0. 0. 0. 1. 0. 0. 0. 0. 0.]\n",
            " [0. 1. 0. 0. 0. 0. 0. 0. 0. 0.]\n",
            " [0. 0. 0. 0. 0. 0. 0. 0. 0. 1.]\n",
            " [0. 0. 1. 0. 0. 0. 0. 0. 0. 0.]\n",
            " [0. 1. 0. 0. 0. 0. 0. 0. 0. 0.]\n",
            " [0. 0. 0. 1. 0. 0. 0. 0. 0. 0.]\n",
            " [0. 1. 0. 0. 0. 0. 0. 0. 0. 0.]\n",
            " [0. 0. 0. 0. 1. 0. 0. 0. 0. 0.]]\n"
          ],
          "name": "stdout"
        }
      ]
    },
    {
      "cell_type": "code",
      "metadata": {
        "colab_type": "code",
        "id": "f8HyorlxTUgO",
        "outputId": "ceb82b9d-ec9c-4071-a798-21e37d0528e0",
        "colab": {
          "base_uri": "https://localhost:8080/",
          "height": 212
        }
      },
      "source": [
        "# Build the network\n",
        "from keras.layers import Dense # Dense layers are \"fully connected\" layers\n",
        "from keras.models import Sequential # Documentation: https://keras.io/models/sequential/\n",
        "\n",
        "# The input layer requires the special input_shape parameter, which should equal the shape of our training data.\n",
        "# The output layer must be the same size as the (one-hot encoded) labels.\n",
        "# Choose a non-linear activation function such as a sigmoid, or relu.\n",
        "# For classification purposes, where the outputs are normalized 'probabilities' between the classes,\n",
        "#  one typically uses the softmax activation function for the last layer.\n",
        "\n",
        "### STUDENT CODE HERE ###\n",
        "model = Sequential([ # layer after input ,  input\n",
        "  Dense(1000, activation='sigmoid', input_shape=(784,)), # dense amount of nodes we have, comma okayyy???\n",
        "# reloop - asctivate - input times the node number - and then apply this relu - non-linear fx\n",
        "  Dense(10, activation='softmax'), #output (since its last layer) we want it to be 10\n",
        "])\n",
        "\n",
        "### --> add Dense (fully connected) layers to the model to connect input to output.\n",
        "###  Make sure that the dimensionality is correct: input should be # pixels large, \n",
        "###  output should be #classes large. Google is your friend.\n",
        "### END STUDENT CODE ###\n",
        "\n",
        "# Print model summary. Shows network layout, and # free parameters (weights + biases) to adapt while learning.\n",
        "model.summary()"
      ],
      "execution_count": 78,
      "outputs": [
        {
          "output_type": "stream",
          "text": [
            "Model: \"sequential_12\"\n",
            "_________________________________________________________________\n",
            "Layer (type)                 Output Shape              Param #   \n",
            "=================================================================\n",
            "dense_17 (Dense)             (None, 1000)              785000    \n",
            "_________________________________________________________________\n",
            "dense_18 (Dense)             (None, 10)                10010     \n",
            "=================================================================\n",
            "Total params: 795,010\n",
            "Trainable params: 795,010\n",
            "Non-trainable params: 0\n",
            "_________________________________________________________________\n"
          ],
          "name": "stdout"
        }
      ]
    },
    {
      "cell_type": "code",
      "metadata": {
        "colab_type": "code",
        "id": "xLA4UyhnTjUK",
        "colab": {}
      },
      "source": [
        "# Compile the model\n",
        "\n",
        "# A good loss function for probability classification that works well with softmax is the 'categorical crossentropy'.\n",
        "#  It's a function of the difference between the predicted y (from running the image through the network),\n",
        "#  and the actual label y that we get from the dataset. The larger the loss, the worst our network is performing.\n",
        "# A good optimizer is the stochastic gradient descent (sgd) or adam.\n",
        "\n",
        "### STUDENT CODE HERE ###\n",
        "\n",
        "model.compile(\n",
        "  optimizer='sgd',\n",
        "  loss='categorical_crossentropy',\n",
        "  metrics=['accuracy'],\n",
        ")\n",
        "\n",
        "\n",
        "### --> Call model.compile with the right arguments.\n",
        "### END STUDENT CODE ###"
      ],
      "execution_count": 0,
      "outputs": []
    },
    {
      "cell_type": "code",
      "metadata": {
        "colab_type": "code",
        "id": "Hpxjqt02r4bJ",
        "outputId": "219c35ca-a7ef-4b5a-fbef-97e575e287d5",
        "colab": {
          "base_uri": "https://localhost:8080/",
          "height": 50
        }
      },
      "source": [
        "# Let's see how good the model 'predicts' some hand-written digits in our test dataset, without training.\n",
        "# It's probably random: so for 10 digits, it should get an accuracy around 0.1 .\n",
        "\n",
        "loss, accuracy  = model.evaluate(x_test, y_test, verbose=False)\n",
        "print(f'Test loss: {loss:.3}')\n",
        "print(f'Test accuracy: {accuracy:.3}')\n",
        "\n",
        "### STUDENT CODE HERE ###\n",
        "\n",
        "# model.predict_proba(x_train, 10,0)\n",
        "# model.predict_proba(x_test, 10,0)\n",
        "### --> call model.predict_proba() on the test images, and show the predictions of the\n",
        "###  untrained model for the first 10 images. Also, plot those images, as you did above.\n",
        "### END STUDENT CODE ###\n"
      ],
      "execution_count": 80,
      "outputs": [
        {
          "output_type": "stream",
          "text": [
            "Test loss: 3.05\n",
            "Test accuracy: 0.0915\n"
          ],
          "name": "stdout"
        }
      ]
    },
    {
      "cell_type": "code",
      "metadata": {
        "colab_type": "code",
        "id": "gCkCK2BZZRG5",
        "outputId": "dba13824-8532-4626-f2fa-a26d4d596ca5",
        "colab": {
          "base_uri": "https://localhost:8080/",
          "height": 358
        }
      },
      "source": [
        "# Train the model.\n",
        "\n",
        "# BATCH_SIZE defines how many images to process at once.\n",
        "# EPOCHS defines how often to run over the total data (60000 images)\n",
        "# (Note that a small part of the train data is internally split off for independent validation of the metrics)\n",
        "\n",
        "### STUDENT CODE HERE ###\n",
        "### --> Edit the parameters below to obtain a better accuracy in the training.\n",
        "\n",
        "BATCH_SIZE = 32\n",
        "EPOCHS = 10\n",
        "\n",
        "history = model.fit(x_train, y_train, batch_size=BATCH_SIZE, epochs=EPOCHS, verbose=1, validation_split=.1)"
      ],
      "execution_count": 81,
      "outputs": [
        {
          "output_type": "stream",
          "text": [
            "Train on 54000 samples, validate on 6000 samples\n",
            "Epoch 1/10\n",
            "54000/54000 [==============================] - 14s 261us/step - loss: 0.4079 - acc: 0.8901 - val_loss: 0.2199 - val_acc: 0.9438\n",
            "Epoch 2/10\n",
            "54000/54000 [==============================] - 15s 272us/step - loss: 0.2360 - acc: 0.9342 - val_loss: 0.1783 - val_acc: 0.9530\n",
            "Epoch 3/10\n",
            "54000/54000 [==============================] - 15s 274us/step - loss: 0.1928 - acc: 0.9465 - val_loss: 0.1587 - val_acc: 0.9578\n",
            "Epoch 4/10\n",
            "54000/54000 [==============================] - 15s 269us/step - loss: 0.1678 - acc: 0.9530 - val_loss: 0.1431 - val_acc: 0.9617\n",
            "Epoch 5/10\n",
            "54000/54000 [==============================] - 14s 268us/step - loss: 0.1500 - acc: 0.9579 - val_loss: 0.1290 - val_acc: 0.9668\n",
            "Epoch 6/10\n",
            "54000/54000 [==============================] - 15s 271us/step - loss: 0.1373 - acc: 0.9620 - val_loss: 0.1198 - val_acc: 0.9673\n",
            "Epoch 7/10\n",
            "54000/54000 [==============================] - 15s 276us/step - loss: 0.1234 - acc: 0.9662 - val_loss: 0.1172 - val_acc: 0.9707\n",
            "Epoch 8/10\n",
            "54000/54000 [==============================] - 15s 271us/step - loss: 0.1152 - acc: 0.9685 - val_loss: 0.1116 - val_acc: 0.9693\n",
            "Epoch 9/10\n",
            "54000/54000 [==============================] - 15s 271us/step - loss: 0.1058 - acc: 0.9718 - val_loss: 0.1046 - val_acc: 0.9727\n",
            "Epoch 10/10\n",
            "54000/54000 [==============================] - 15s 274us/step - loss: 0.0961 - acc: 0.9746 - val_loss: 0.1026 - val_acc: 0.9703\n"
          ],
          "name": "stdout"
        }
      ]
    },
    {
      "cell_type": "code",
      "metadata": {
        "colab_type": "code",
        "id": "arNvXRj8W3i9",
        "outputId": "db49f10a-509a-4dd5-c867-0435e47413d2",
        "colab": {
          "base_uri": "https://localhost:8080/",
          "height": 295
        }
      },
      "source": [
        "# Plot the progression of the training process\n",
        "\n",
        "plt.plot(history.history['acc'])\n",
        "plt.plot(history.history['val_acc'])\n",
        "plt.title('model accuracy')\n",
        "plt.ylabel('accuracy')\n",
        "plt.xlabel('epoch')\n",
        "plt.legend(['training', 'validation'], loc='best')\n",
        "plt.show()"
      ],
      "execution_count": 82,
      "outputs": [
        {
          "output_type": "display_data",
          "data": {
            "image/png": "[encoded data removed]",
            "text/plain": [
              "<Figure size 432x288 with 1 Axes>"
            ]
          },
          "metadata": {
            "tags": []
          }
        }
      ]
    },
    {
      "cell_type": "code",
      "metadata": {
        "colab_type": "code",
        "id": "AY46AfbHT0SZ",
        "outputId": "10076ba9-7b26-4848-d1f8-a2101b440819",
        "colab": {
          "base_uri": "https://localhost:8080/",
          "height": 413
        }
      },
      "source": [
        "# Evaluate model on test data - how often does the network predict the right label after training?\n",
        "\n",
        "loss, accuracy  = model.evaluate(x_test, y_test, verbose=False)\n",
        "\n",
        "print(f'Test loss: {loss:.3}')\n",
        "print(f'Test accuracy: {accuracy:.3}')\n",
        "\n",
        "# Make a confusion matrix to see which numbers are difficult to disentangle\n",
        "\n",
        "# y_pred_test = model.predict_proba(x_test) # obtain one-hot encoded predictions for the x_test images\n",
        "# from sklearn.metrics import confusion_matrix\n",
        "\n",
        "### STUDENT CODE HERE ###\n",
        "### --> Now predict again the labels for the test images, but after proper training.\n",
        "\n",
        "y_pred_test = model.predict_proba(x_test) # obtain one-hot encoded predictions for the x_test images\n",
        "y_test_index      = [ np.argmax(i) for i in y_test ] # actual number known labels\n",
        "y_pred_test_index = [ np.argmax(i) for i in y_pred_test ] # actual number predictions\n",
        "y_pred_test_proba = [ y_pred_test[i][ y_pred_test_index[i] ] for i in range(len(y_test_index)) ] # probabilities to be correct\n",
        "\n",
        "from sklearn.metrics import confusion_matrix\n",
        "plt.figure(figsize=(7, 6))\n",
        "plt.title('Confusion matrix', fontsize=16)\n",
        "plt.imshow(confusion_matrix(y_test_index, y_pred_test_index ))\n",
        "plt.xticks(np.arange(10), np.arange(10), rotation=0, fontsize=12)\n",
        "plt.yticks(np.arange(10), np.arange(10), fontsize=12)\n",
        "plt.colorbar()\n",
        "plt.show()\n",
        "###  Build a confusion matrix to show which labels we often confuse with what.\n",
        "###  (Note that the y_test and y_pred are still one-hot encoded, so you need to get\n",
        "###   the index of the maximum entry to find the corresponding predicted 'number'.\n",
        "### END STUDENT CODE ###\n",
        "# the colos are the iterations, how many times, 9 got confused with a 9 - not really because pretty accurate! \n",
        "#its to see the the light purlple to blue which not in the line, this is the ones "
      ],
      "execution_count": 83,
      "outputs": [
        {
          "output_type": "stream",
          "text": [
            "Test loss: 0.115\n",
            "Test accuracy: 0.967\n"
          ],
          "name": "stdout"
        },
        {
          "output_type": "display_data",
          "data": {
            "image/png": "[encoded data removed]",
            "text/plain": [
              "<Figure size 504x432 with 2 Axes>"
            ]
          },
          "metadata": {
            "tags": []
          }
        }
      ]
    },
    {
      "cell_type": "code",
      "metadata": {
        "colab_type": "code",
        "id": "e824_G2qZ4Lg",
        "outputId": "c19978c6-19d4-407a-86a4-d592a06fb103",
        "colab": {
          "base_uri": "https://localhost:8080/",
          "height": 170
        }
      },
      "source": [
        "# Show some predicted labels and their probabilities to be correct\n",
        "\n",
        "### STUDENT CODE HERE ###\n",
        "\n",
        "plt.figure(figsize=[16,16])\n",
        "\n",
        "for i in range(10):\n",
        "    plt.subplot(1, 10, i+1)\n",
        "    plt.title(\"Label: {0}\\nPrediction:{1}\\nProba:{2:.3f}\".format(\n",
        "        y_test_index[i], y_pred_test_index[i], y_pred_test_proba[i] ))\n",
        "    plt.imshow(x_test[i].reshape([28,28]),cmap='gray');\n",
        "### --> Now show some hand-written digit images from the test sample, \n",
        "###  their corresponding true label, their predicted label from your network,\n",
        "###  and the probability associated with that prediction.\n",
        "### END STUDENT CODE ###"
      ],
      "execution_count": 84,
      "outputs": [
        {
          "output_type": "display_data",
          "data": {
            "image/png": "[encoded data removed]",
            "text/plain": [
              "<Figure size 1152x1152 with 10 Axes>"
            ]
          },
          "metadata": {
            "tags": []
          }
        }
      ]
    },
    {
      "cell_type": "code",
      "metadata": {
        "colab_type": "code",
        "id": "C3GO3lDpR4qm",
        "colab": {}
      },
      "source": [
        ""
      ],
      "execution_count": 0,
      "outputs": []
    }
  ]
}